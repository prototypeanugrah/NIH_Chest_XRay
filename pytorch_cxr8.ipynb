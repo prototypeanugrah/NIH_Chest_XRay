{
  "cells": [
    {
      "cell_type": "code",
      "execution_count": 1,
      "metadata": {
        "colab": {
          "base_uri": "https://localhost:8080/"
        },
        "id": "L1T1hM9g7LZ1",
        "outputId": "53a6947e-6b92-4d75-8063-9b325b72cddf"
      },
      "outputs": [
        {
          "output_type": "stream",
          "name": "stdout",
          "text": [
            "Mounted at /content/gdrive\n"
          ]
        }
      ],
      "source": [
        "from google.colab import drive\n",
        "\n",
        "drive.mount('/content/gdrive')"
      ]
    },
    {
      "cell_type": "code",
      "execution_count": 2,
      "metadata": {
        "id": "2mJfEKusirCg"
      },
      "outputs": [],
      "source": [
        "import os\n",
        "import cv2\n",
        "from glob import glob\n",
        "\n",
        "from pathlib import Path\n",
        "import datetime\n",
        "\n",
        "import numpy as np\n",
        "import pandas as pd\n",
        "import matplotlib.pyplot as plt\n",
        "\n",
        "import PIL\n",
        "\n",
        "import torch.backends.cudnn as cudnn\n",
        "from sklearn.metrics import roc_auc_score\n",
        "\n",
        "import torch\n",
        "import torch.nn as nn\n",
        "from torch.utils.data import Dataset, DataLoader\n",
        "import torchvision\n",
        "import torchvision.transforms as transforms\n",
        "\n",
        "import torch.optim as optim\n",
        "import time"
      ]
    },
    {
      "cell_type": "code",
      "execution_count": 3,
      "metadata": {
        "colab": {
          "base_uri": "https://localhost:8080/"
        },
        "id": "L7DKx_7TRcVs",
        "outputId": "919597fd-0696-4b20-9dab-17b404edbbc8"
      },
      "outputs": [
        {
          "output_type": "stream",
          "name": "stdout",
          "text": [
            "ARXIV_V5_CHESTXRAY.pdf\t   images_003  LOG_CHESTXRAY.pdf\n",
            "BBox_List_2017.csv\t   images_004  __pycache__\n",
            "Data_Entry_2017.csv\t   images_005  README_CHESTXRAY.pdf\n",
            "FAQ_CHESTXRAY.pdf\t   images_006  second_train_model.pth\n",
            "first_train_model.pth\t   images_007  test_file.txt\n",
            "first_train_model.pth.tar  images_008  test_list.txt\n",
            "helper.py\t\t   images_009  train_file.txt\n",
            "image_path_label_df.csv    images_010  train_val_list.txt\n",
            "images_001\t\t   images_011\n",
            "images_002\t\t   images_012\n"
          ]
        }
      ],
      "source": [
        "# print()\n",
        "os.chdir(os.path.join(os.getcwd()+'/gdrive/MyDrive/cxr8'))\n",
        "!ls"
      ]
    },
    {
      "cell_type": "markdown",
      "source": [
        "# Create main image dataset"
      ],
      "metadata": {
        "id": "qN5dFhqyG7tk"
      }
    },
    {
      "cell_type": "code",
      "source": [
        "pathology_list = ['Cardiomegaly', 'Emphysema', 'Effusion', 'Hernia', 'Nodule', 'Pneumothorax', 'Atelectasis',\n",
        "                    'Pleural_Thickening', 'Mass','Edema', 'Consolidation', 'Infiltration', 'Fibrosis', 'Pneumonia',\n",
        "                  'No Findings']\n",
        "\n",
        "n_classes = len(pathology_list)"
      ],
      "metadata": {
        "id": "jlU9nlmSBGJL"
      },
      "execution_count": 4,
      "outputs": []
    },
    {
      "cell_type": "code",
      "source": [
        "def image_label():\n",
        "\n",
        "  \"\"\"\n",
        "  Description : Get the labels of the chest x-rays in column/wide format and drop all irrelevant columns\n",
        "  input : None\n",
        "  output : A dataframe containing the image and it's classes as columns with 1-hot encoded values\n",
        "  \"\"\"\n",
        "\n",
        "  # Read the main csv contianing images and classes\n",
        "  labels = pd.read_csv('Data_Entry_2017.csv')\n",
        "\n",
        "  # multi hot encoding\n",
        "  for pathology in pathology_list :\n",
        "      labels [pathology] = labels ['Finding Labels'].apply (lambda x: 1 if pathology in x else 0)\n",
        "\n",
        "  labels ['No Findings'] = labels ['Finding Labels'].apply (lambda x: 1 if 'No Finding' in x else 0)\n",
        "\n",
        "  print('Total Unique Patients ',labels['Patient ID'].nunique())\n",
        "  print('Total images ', labels['Image Index'].nunique(), '\\n')\n",
        "\n",
        "  # Drop the irrelevant columns\n",
        "\n",
        "  labels = labels.drop (list (labels.iloc [:,1:12].columns.values), axis = 1)\n",
        "\n",
        "  return labels"
      ],
      "metadata": {
        "id": "9NdqEfZ062LR"
      },
      "execution_count": 21,
      "outputs": []
    },
    {
      "cell_type": "code",
      "source": [
        "def image_path_label(image_df):\n",
        "\n",
        "  \"\"\"\n",
        "  Description :\n",
        "  1. Read the path of the images\n",
        "  2. Drop the images for which no path is found\n",
        "  input : A dataframe contianing the image name and its classes\n",
        "  output : A dataframe containing the image name, image path and its classes\n",
        "  \"\"\"\n",
        "\n",
        "  start_time = datetime.datetime.now()\n",
        "\n",
        "  all_image_paths = []\n",
        "  path = os.getcwd()\n",
        "\n",
        "  # Parse through all the image folders\n",
        "  for folder in Path(path).glob('images_*'):\n",
        "    all_image_paths += list(folder.glob('images/*.png'))\n",
        "\n",
        "  end_time = datetime.datetime.now()\n",
        "\n",
        "  # Convert the image paths to dictionary\n",
        "  all_image_paths_dict = {path.parts[-1]: path for path in all_image_paths}\n",
        "\n",
        "  # Map the dictionary of image's path to the image name\n",
        "  image_df['path'] = image_df['Image Index'].map(all_image_paths_dict.get)\n",
        "\n",
        "  print('Total time taken to read the path of all images is ', (end_time - start_time).seconds, ' seconds')\n",
        "\n",
        "  print('Saving the dataframe to the pwd')\n",
        "  image_df.to_csv('image_path_label_df.csv')\n",
        "\n",
        "  print('\\nTotal images with path available', image_df[image_df.path.notna()].shape[0])\n",
        "  print('Total images with path not available', image_df[image_df.path.isna()].shape[0])\n",
        "\n",
        "  # Dropping the images where image name is available but image path not available\n",
        "  print('\\nDropping the images where image path not available')\n",
        "  image_df = image_df[image_df.path.notna()]\n",
        "\n",
        "  return image_df"
      ],
      "metadata": {
        "id": "m5gYkHpH97gI"
      },
      "execution_count": null,
      "outputs": []
    },
    {
      "cell_type": "code",
      "source": [
        "if os.path.exists('./image_path_label_df.csv'):\n",
        "  print('File already exists in directory. Fetching from directory')\n",
        "\n",
        "  image_label_df = pd.read_csv('image_path_label_df.csv')\n",
        "\n",
        "  print('\\nTotal images with path available', image_label_df[image_label_df.path.notna()].shape[0])\n",
        "  print('Total images with path not available', image_label_df[image_label_df.path.isna()].shape[0])\n",
        "\n",
        "  # Dropping the images where image name is available but image path not available\n",
        "  print('\\nDropping the images where image path not available')\n",
        "  image_label_df = image_label_df[image_label_df.path.notna()]\n",
        "  image_label_df.drop(columns=image_label_df.columns[0], axis=1,  inplace=True)\n",
        "\n",
        "else:\n",
        "  image_label_df = image_path_label(image_label())\n",
        "\n",
        "image_label_df.head()"
      ],
      "metadata": {
        "colab": {
          "base_uri": "https://localhost:8080/",
          "height": 391
        },
        "id": "Q7OE-8YxTsII",
        "outputId": "e7e71848-24e9-455f-e798-430f3f7612bc"
      },
      "execution_count": 93,
      "outputs": [
        {
          "output_type": "stream",
          "name": "stdout",
          "text": [
            "File already exists in directory. Fetching from directory\n",
            "\n",
            "Total images with path available 111837\n",
            "Total images with path not available 283\n",
            "\n",
            "Dropping the images where image path not available\n"
          ]
        },
        {
          "output_type": "execute_result",
          "data": {
            "text/plain": [
              "        Image Index  Cardiomegaly  Emphysema  Effusion  Hernia  Nodule  \\\n",
              "0  00000001_000.png             1          0         0       0       0   \n",
              "1  00000001_001.png             1          1         0       0       0   \n",
              "2  00000001_002.png             1          0         1       0       0   \n",
              "3  00000002_000.png             0          0         0       0       0   \n",
              "4  00000003_000.png             0          0         0       1       0   \n",
              "\n",
              "   Pneumothorax  Atelectasis  Pleural_Thickening  Mass  Edema  Consolidation  \\\n",
              "0             0            0                   0     0      0              0   \n",
              "1             0            0                   0     0      0              0   \n",
              "2             0            0                   0     0      0              0   \n",
              "3             0            0                   0     0      0              0   \n",
              "4             0            0                   0     0      0              0   \n",
              "\n",
              "   Infiltration  Fibrosis  Pneumonia  No Findings  \\\n",
              "0             0         0          0            0   \n",
              "1             0         0          0            0   \n",
              "2             0         0          0            0   \n",
              "3             0         0          0            1   \n",
              "4             0         0          0            0   \n",
              "\n",
              "                                                path  \n",
              "0  /content/gdrive/MyDrive/cxr8/images_001/images...  \n",
              "1  /content/gdrive/MyDrive/cxr8/images_001/images...  \n",
              "2  /content/gdrive/MyDrive/cxr8/images_001/images...  \n",
              "3  /content/gdrive/MyDrive/cxr8/images_001/images...  \n",
              "4  /content/gdrive/MyDrive/cxr8/images_001/images...  "
            ],
            "text/html": [
              "\n",
              "\n",
              "  <div id=\"df-f5d18439-72dd-474b-b75a-87c0a04e180e\">\n",
              "    <div class=\"colab-df-container\">\n",
              "      <div>\n",
              "<style scoped>\n",
              "    .dataframe tbody tr th:only-of-type {\n",
              "        vertical-align: middle;\n",
              "    }\n",
              "\n",
              "    .dataframe tbody tr th {\n",
              "        vertical-align: top;\n",
              "    }\n",
              "\n",
              "    .dataframe thead th {\n",
              "        text-align: right;\n",
              "    }\n",
              "</style>\n",
              "<table border=\"1\" class=\"dataframe\">\n",
              "  <thead>\n",
              "    <tr style=\"text-align: right;\">\n",
              "      <th></th>\n",
              "      <th>Image Index</th>\n",
              "      <th>Cardiomegaly</th>\n",
              "      <th>Emphysema</th>\n",
              "      <th>Effusion</th>\n",
              "      <th>Hernia</th>\n",
              "      <th>Nodule</th>\n",
              "      <th>Pneumothorax</th>\n",
              "      <th>Atelectasis</th>\n",
              "      <th>Pleural_Thickening</th>\n",
              "      <th>Mass</th>\n",
              "      <th>Edema</th>\n",
              "      <th>Consolidation</th>\n",
              "      <th>Infiltration</th>\n",
              "      <th>Fibrosis</th>\n",
              "      <th>Pneumonia</th>\n",
              "      <th>No Findings</th>\n",
              "      <th>path</th>\n",
              "    </tr>\n",
              "  </thead>\n",
              "  <tbody>\n",
              "    <tr>\n",
              "      <th>0</th>\n",
              "      <td>00000001_000.png</td>\n",
              "      <td>1</td>\n",
              "      <td>0</td>\n",
              "      <td>0</td>\n",
              "      <td>0</td>\n",
              "      <td>0</td>\n",
              "      <td>0</td>\n",
              "      <td>0</td>\n",
              "      <td>0</td>\n",
              "      <td>0</td>\n",
              "      <td>0</td>\n",
              "      <td>0</td>\n",
              "      <td>0</td>\n",
              "      <td>0</td>\n",
              "      <td>0</td>\n",
              "      <td>0</td>\n",
              "      <td>/content/gdrive/MyDrive/cxr8/images_001/images...</td>\n",
              "    </tr>\n",
              "    <tr>\n",
              "      <th>1</th>\n",
              "      <td>00000001_001.png</td>\n",
              "      <td>1</td>\n",
              "      <td>1</td>\n",
              "      <td>0</td>\n",
              "      <td>0</td>\n",
              "      <td>0</td>\n",
              "      <td>0</td>\n",
              "      <td>0</td>\n",
              "      <td>0</td>\n",
              "      <td>0</td>\n",
              "      <td>0</td>\n",
              "      <td>0</td>\n",
              "      <td>0</td>\n",
              "      <td>0</td>\n",
              "      <td>0</td>\n",
              "      <td>0</td>\n",
              "      <td>/content/gdrive/MyDrive/cxr8/images_001/images...</td>\n",
              "    </tr>\n",
              "    <tr>\n",
              "      <th>2</th>\n",
              "      <td>00000001_002.png</td>\n",
              "      <td>1</td>\n",
              "      <td>0</td>\n",
              "      <td>1</td>\n",
              "      <td>0</td>\n",
              "      <td>0</td>\n",
              "      <td>0</td>\n",
              "      <td>0</td>\n",
              "      <td>0</td>\n",
              "      <td>0</td>\n",
              "      <td>0</td>\n",
              "      <td>0</td>\n",
              "      <td>0</td>\n",
              "      <td>0</td>\n",
              "      <td>0</td>\n",
              "      <td>0</td>\n",
              "      <td>/content/gdrive/MyDrive/cxr8/images_001/images...</td>\n",
              "    </tr>\n",
              "    <tr>\n",
              "      <th>3</th>\n",
              "      <td>00000002_000.png</td>\n",
              "      <td>0</td>\n",
              "      <td>0</td>\n",
              "      <td>0</td>\n",
              "      <td>0</td>\n",
              "      <td>0</td>\n",
              "      <td>0</td>\n",
              "      <td>0</td>\n",
              "      <td>0</td>\n",
              "      <td>0</td>\n",
              "      <td>0</td>\n",
              "      <td>0</td>\n",
              "      <td>0</td>\n",
              "      <td>0</td>\n",
              "      <td>0</td>\n",
              "      <td>1</td>\n",
              "      <td>/content/gdrive/MyDrive/cxr8/images_001/images...</td>\n",
              "    </tr>\n",
              "    <tr>\n",
              "      <th>4</th>\n",
              "      <td>00000003_000.png</td>\n",
              "      <td>0</td>\n",
              "      <td>0</td>\n",
              "      <td>0</td>\n",
              "      <td>1</td>\n",
              "      <td>0</td>\n",
              "      <td>0</td>\n",
              "      <td>0</td>\n",
              "      <td>0</td>\n",
              "      <td>0</td>\n",
              "      <td>0</td>\n",
              "      <td>0</td>\n",
              "      <td>0</td>\n",
              "      <td>0</td>\n",
              "      <td>0</td>\n",
              "      <td>0</td>\n",
              "      <td>/content/gdrive/MyDrive/cxr8/images_001/images...</td>\n",
              "    </tr>\n",
              "  </tbody>\n",
              "</table>\n",
              "</div>\n",
              "      <button class=\"colab-df-convert\" onclick=\"convertToInteractive('df-f5d18439-72dd-474b-b75a-87c0a04e180e')\"\n",
              "              title=\"Convert this dataframe to an interactive table.\"\n",
              "              style=\"display:none;\">\n",
              "\n",
              "  <svg xmlns=\"http://www.w3.org/2000/svg\" height=\"24px\"viewBox=\"0 0 24 24\"\n",
              "       width=\"24px\">\n",
              "    <path d=\"M0 0h24v24H0V0z\" fill=\"none\"/>\n",
              "    <path d=\"M18.56 5.44l.94 2.06.94-2.06 2.06-.94-2.06-.94-.94-2.06-.94 2.06-2.06.94zm-11 1L8.5 8.5l.94-2.06 2.06-.94-2.06-.94L8.5 2.5l-.94 2.06-2.06.94zm10 10l.94 2.06.94-2.06 2.06-.94-2.06-.94-.94-2.06-.94 2.06-2.06.94z\"/><path d=\"M17.41 7.96l-1.37-1.37c-.4-.4-.92-.59-1.43-.59-.52 0-1.04.2-1.43.59L10.3 9.45l-7.72 7.72c-.78.78-.78 2.05 0 2.83L4 21.41c.39.39.9.59 1.41.59.51 0 1.02-.2 1.41-.59l7.78-7.78 2.81-2.81c.8-.78.8-2.07 0-2.86zM5.41 20L4 18.59l7.72-7.72 1.47 1.35L5.41 20z\"/>\n",
              "  </svg>\n",
              "      </button>\n",
              "\n",
              "\n",
              "\n",
              "    <div id=\"df-6cbd5e26-0be4-4572-a73e-64aeff64c015\">\n",
              "      <button class=\"colab-df-quickchart\" onclick=\"quickchart('df-6cbd5e26-0be4-4572-a73e-64aeff64c015')\"\n",
              "              title=\"Suggest charts.\"\n",
              "              style=\"display:none;\">\n",
              "\n",
              "<svg xmlns=\"http://www.w3.org/2000/svg\" height=\"24px\"viewBox=\"0 0 24 24\"\n",
              "     width=\"24px\">\n",
              "    <g>\n",
              "        <path d=\"M19 3H5c-1.1 0-2 .9-2 2v14c0 1.1.9 2 2 2h14c1.1 0 2-.9 2-2V5c0-1.1-.9-2-2-2zM9 17H7v-7h2v7zm4 0h-2V7h2v10zm4 0h-2v-4h2v4z\"/>\n",
              "    </g>\n",
              "</svg>\n",
              "      </button>\n",
              "    </div>\n",
              "\n",
              "<style>\n",
              "  .colab-df-quickchart {\n",
              "    background-color: #E8F0FE;\n",
              "    border: none;\n",
              "    border-radius: 50%;\n",
              "    cursor: pointer;\n",
              "    display: none;\n",
              "    fill: #1967D2;\n",
              "    height: 32px;\n",
              "    padding: 0 0 0 0;\n",
              "    width: 32px;\n",
              "  }\n",
              "\n",
              "  .colab-df-quickchart:hover {\n",
              "    background-color: #E2EBFA;\n",
              "    box-shadow: 0px 1px 2px rgba(60, 64, 67, 0.3), 0px 1px 3px 1px rgba(60, 64, 67, 0.15);\n",
              "    fill: #174EA6;\n",
              "  }\n",
              "\n",
              "  [theme=dark] .colab-df-quickchart {\n",
              "    background-color: #3B4455;\n",
              "    fill: #D2E3FC;\n",
              "  }\n",
              "\n",
              "  [theme=dark] .colab-df-quickchart:hover {\n",
              "    background-color: #434B5C;\n",
              "    box-shadow: 0px 1px 3px 1px rgba(0, 0, 0, 0.15);\n",
              "    filter: drop-shadow(0px 1px 2px rgba(0, 0, 0, 0.3));\n",
              "    fill: #FFFFFF;\n",
              "  }\n",
              "</style>\n",
              "\n",
              "    <script>\n",
              "      async function quickchart(key) {\n",
              "        const containerElement = document.querySelector('#' + key);\n",
              "        const charts = await google.colab.kernel.invokeFunction(\n",
              "            'suggestCharts', [key], {});\n",
              "      }\n",
              "    </script>\n",
              "\n",
              "      <script>\n",
              "\n",
              "function displayQuickchartButton(domScope) {\n",
              "  let quickchartButtonEl =\n",
              "    domScope.querySelector('#df-6cbd5e26-0be4-4572-a73e-64aeff64c015 button.colab-df-quickchart');\n",
              "  quickchartButtonEl.style.display =\n",
              "    google.colab.kernel.accessAllowed ? 'block' : 'none';\n",
              "}\n",
              "\n",
              "        displayQuickchartButton(document);\n",
              "      </script>\n",
              "      <style>\n",
              "    .colab-df-container {\n",
              "      display:flex;\n",
              "      flex-wrap:wrap;\n",
              "      gap: 12px;\n",
              "    }\n",
              "\n",
              "    .colab-df-convert {\n",
              "      background-color: #E8F0FE;\n",
              "      border: none;\n",
              "      border-radius: 50%;\n",
              "      cursor: pointer;\n",
              "      display: none;\n",
              "      fill: #1967D2;\n",
              "      height: 32px;\n",
              "      padding: 0 0 0 0;\n",
              "      width: 32px;\n",
              "    }\n",
              "\n",
              "    .colab-df-convert:hover {\n",
              "      background-color: #E2EBFA;\n",
              "      box-shadow: 0px 1px 2px rgba(60, 64, 67, 0.3), 0px 1px 3px 1px rgba(60, 64, 67, 0.15);\n",
              "      fill: #174EA6;\n",
              "    }\n",
              "\n",
              "    [theme=dark] .colab-df-convert {\n",
              "      background-color: #3B4455;\n",
              "      fill: #D2E3FC;\n",
              "    }\n",
              "\n",
              "    [theme=dark] .colab-df-convert:hover {\n",
              "      background-color: #434B5C;\n",
              "      box-shadow: 0px 1px 3px 1px rgba(0, 0, 0, 0.15);\n",
              "      filter: drop-shadow(0px 1px 2px rgba(0, 0, 0, 0.3));\n",
              "      fill: #FFFFFF;\n",
              "    }\n",
              "  </style>\n",
              "\n",
              "      <script>\n",
              "        const buttonEl =\n",
              "          document.querySelector('#df-f5d18439-72dd-474b-b75a-87c0a04e180e button.colab-df-convert');\n",
              "        buttonEl.style.display =\n",
              "          google.colab.kernel.accessAllowed ? 'block' : 'none';\n",
              "\n",
              "        async function convertToInteractive(key) {\n",
              "          const element = document.querySelector('#df-f5d18439-72dd-474b-b75a-87c0a04e180e');\n",
              "          const dataTable =\n",
              "            await google.colab.kernel.invokeFunction('convertToInteractive',\n",
              "                                                     [key], {});\n",
              "          if (!dataTable) return;\n",
              "\n",
              "          const docLinkHtml = 'Like what you see? Visit the ' +\n",
              "            '<a target=\"_blank\" href=https://colab.research.google.com/notebooks/data_table.ipynb>data table notebook</a>'\n",
              "            + ' to learn more about interactive tables.';\n",
              "          element.innerHTML = '';\n",
              "          dataTable['output_type'] = 'display_data';\n",
              "          await google.colab.output.renderOutput(dataTable, element);\n",
              "          const docLink = document.createElement('div');\n",
              "          docLink.innerHTML = docLinkHtml;\n",
              "          element.appendChild(docLink);\n",
              "        }\n",
              "      </script>\n",
              "    </div>\n",
              "  </div>\n"
            ]
          },
          "metadata": {},
          "execution_count": 93
        }
      ]
    },
    {
      "cell_type": "markdown",
      "source": [
        "# Create train and test dataloaders"
      ],
      "metadata": {
        "id": "3ll8DQmmHL6z"
      }
    },
    {
      "cell_type": "code",
      "source": [
        "def train_test_split(split_type, image_path_df):\n",
        "\n",
        "  \"\"\"\n",
        "  input :\n",
        "    1. split_type : type of split - train or test\n",
        "    2. image_path_df : dataframe containing image name, path and classes\n",
        "  output : train or test dataframe depending on split_type\n",
        "  \"\"\"\n",
        "\n",
        "  if split_type == 'train':\n",
        "    split_type = 'train_val_list.txt'\n",
        "  elif split_type == 'test':\n",
        "    split_type = 'test_list.txt'\n",
        "  else:\n",
        "    print('Invalid split')\n",
        "    return 0\n",
        "\n",
        "  dataset_list = pd.read_csv(split_type, names = ['images'])\n",
        "\n",
        "  final_df = pd.merge(image_path_df, dataset_list, left_on = 'Image Index', right_on = 'images', how = 'inner').drop(['Image Index', 'images'], axis = 1)\n",
        "\n",
        "  print(f\"{split_type.split('.')[0].split('_')[0]} dataframe has {final_df.shape[0]} images\")\n",
        "\n",
        "  return final_df"
      ],
      "metadata": {
        "id": "hNTlC-SBD76k"
      },
      "execution_count": 94,
      "outputs": []
    },
    {
      "cell_type": "code",
      "source": [
        "train_df = train_test_split('train', image_label_df)\n",
        "test_df = train_test_split('test', image_label_df)"
      ],
      "metadata": {
        "colab": {
          "base_uri": "https://localhost:8080/"
        },
        "id": "5rhkzqYMFm3Q",
        "outputId": "a91ded32-ef04-4e2a-e79d-0949b449a57a"
      },
      "execution_count": 95,
      "outputs": [
        {
          "output_type": "stream",
          "name": "stdout",
          "text": [
            "train dataframe has 86306 images\n",
            "test dataframe has 25531 images\n"
          ]
        }
      ]
    },
    {
      "cell_type": "code",
      "source": [
        "# Class to read the image path\n",
        "\n",
        "class ChestXrayDataSet(Dataset):\n",
        "    def __init__(self, image_list_file, transform=None):\n",
        "        \"\"\"\n",
        "        Args:\n",
        "            image_list_file: path to the file containing images\n",
        "                with corresponding labels.\n",
        "            transform: optional transform to be applied on a sample.\n",
        "        \"\"\"\n",
        "        image_names = []\n",
        "        labels = []\n",
        "        with open(image_list_file, \"r\") as f:\n",
        "            for line in f:\n",
        "                items = line.split()\n",
        "                image_name = items[-1]\n",
        "                label = items[0:-1]\n",
        "                label = [int(i) for i in label]\n",
        "                image_names.append(image_name)\n",
        "                labels.append(label)\n",
        "\n",
        "        self.image_names = image_names\n",
        "        self.labels = labels\n",
        "        self.transform = transform\n",
        "\n",
        "    def __getitem__(self, index):\n",
        "        \"\"\"\n",
        "        Args:\n",
        "            index: the index of item\n",
        "\n",
        "        Returns:\n",
        "            image and its labels\n",
        "        \"\"\"\n",
        "        image_name = self.image_names[index]\n",
        "        image = PIL.Image.open(image_name).convert('RGB')\n",
        "        label = self.labels[index]\n",
        "        if self.transform is not None:\n",
        "            image = self.transform(image)\n",
        "        return image, torch.FloatTensor(label)\n",
        "\n",
        "    def __len__(self):\n",
        "        return len(self.image_names)"
      ],
      "metadata": {
        "id": "smCXN33BOceY"
      },
      "execution_count": 96,
      "outputs": []
    },
    {
      "cell_type": "code",
      "source": [
        "# Create train and test dataset\n",
        "\n",
        "def dataloader(split_type, custom_batch_size):\n",
        "\n",
        "  # Recenter and rescale the data near 0 mean and 1 standard deviation\n",
        "  # formula -> h(activation) = (h(i) - m(h))/(s(h) - ê)\n",
        "  # symbols in bracket are subscripts\n",
        "  # m - empirical mean\n",
        "  # s - empirical standard deviation\n",
        "  # ê - very small scalar to avoid division by 0\n",
        "\n",
        "  normalize = transforms.Normalize(\n",
        "      [0.485, 0.456, 0.406],\n",
        "      [0.229, 0.224, 0.225])\n",
        "\n",
        "  dataset_transform = transforms.Compose([transforms.Resize(256),\n",
        "                                    transforms.TenCrop(224),\n",
        "                                    transforms.Lambda\n",
        "                                    (lambda crops: torch.stack([transforms.ToTensor()(crop) for crop in crops])),\n",
        "                                    transforms.Lambda\n",
        "                                    (lambda crops: torch.stack([normalize(crop) for crop in crops]))\n",
        "                                    # transforms.ToTensor(),\n",
        "                                    # transforms.Normalize((0.485, 0.456, 0.406), (0.229, 0.224, 0.225))\n",
        "                                  ])\n",
        "\n",
        "  dataset = ChestXrayDataSet(image_list_file = f\"{os.getcwd()}/{split_type}_file.txt\",\n",
        "                                  transform = dataset_transform)\n",
        "\n",
        "  dataloader = torch.utils.data.DataLoader(dataset,\n",
        "                                           batch_size = custom_batch_size,\n",
        "                                           shuffle=False,\n",
        "                                           num_workers = 2,\n",
        "                                           pin_memory = True)\n",
        "\n",
        "  return dataloader"
      ],
      "metadata": {
        "id": "X_MweQ1uQmzg"
      },
      "execution_count": 97,
      "outputs": []
    },
    {
      "cell_type": "markdown",
      "source": [
        "# Visualize"
      ],
      "metadata": {
        "id": "Ae0cUyqXSFsf"
      }
    },
    {
      "cell_type": "code",
      "source": [
        "def dataset_analysis(split_type):\n",
        "  split_dict = dict()\n",
        "  for class_name in pathology_list:\n",
        "    if split_type == 'train':\n",
        "      split_dict[class_name] = train_df[class_name].sum()\n",
        "    else:\n",
        "      split_dict[class_name] = test_df[class_name].sum()\n",
        "\n",
        "  return split_dict\n",
        "\n",
        "def common_entries(*dcts):\n",
        "  if not dcts:\n",
        "      return\n",
        "  for i in set(dcts[0]).intersection(*dcts[1:]):\n",
        "      yield (i,) + tuple(d[i] for d in dcts)\n",
        "\n",
        "def visualise():\n",
        "\n",
        "  train_analysis = dataset_analysis(split_type = 'train')\n",
        "  test_analysis = dataset_analysis(split_type = 'test')\n",
        "\n",
        "  final_train_test_contri = list(common_entries(train_analysis, test_analysis))\n",
        "\n",
        "  temp = pd.DataFrame(final_train_test_contri,\n",
        "                      columns = ['pathology','train','test'])\n",
        "  temp.set_index('pathology', inplace = True)\n",
        "\n",
        "  ax = temp.plot.bar(rot = 90, subplots = True, figsize = (7,5))\n"
      ],
      "metadata": {
        "id": "Km9m0fGeiZv5"
      },
      "execution_count": 98,
      "outputs": []
    },
    {
      "cell_type": "code",
      "source": [
        "# Visualize the whole train and test split\n",
        "\n",
        "visualise()"
      ],
      "metadata": {
        "colab": {
          "base_uri": "https://localhost:8080/",
          "height": 603
        },
        "id": "k9XXebvoj2-l",
        "outputId": "d0baa14b-3127-42be-f68e-451d6c23f40a"
      },
      "execution_count": 99,
      "outputs": [
        {
          "output_type": "display_data",
          "data": {
            "text/plain": [
              "<Figure size 700x500 with 2 Axes>"
            ],
            "image/png": "[encoded data removed]"
          },
          "metadata": {}
        }
      ]
    },
    {
      "cell_type": "code",
      "execution_count": null,
      "metadata": {
        "id": "wu_Je1nNdfTa"
      },
      "outputs": [],
      "source": [
        "def custom_imshow(image, title=None):\n",
        "    \"\"\"Imshow for Tensor.\"\"\"\n",
        "    image = image.numpy().transpose((1, 2, 0))\n",
        "\n",
        "    mean = 0.5 # np.array([0.485, 0.456, 0.406])\n",
        "    std = 0.5 # np.array([0.229, 0.224, 0.225])\n",
        "    image = std * image + mean\n",
        "    image = np.clip(image, 0, 1)\n",
        "\n",
        "    return image\n",
        "    # fig=plt.figure(figsize=(10, 5))\n",
        "\n",
        "    # if title:\n",
        "    #   plt.title(title)\n",
        "\n",
        "    # columns = 4; rows = 2\n",
        "\n",
        "    # for i in range(1, columns*rows +1):\n",
        "    #     fig.add_subplot(rows, columns, i)\n",
        "    #     plt.imshow(image)\n",
        "    #     plt.axis(False)\n",
        "    #     fig.add_subplot\n"
      ]
    },
    {
      "cell_type": "code",
      "execution_count": null,
      "metadata": {
        "id": "Yyi-GLMrRBc2"
      },
      "outputs": [],
      "source": [
        "image, label = next(iter(train_dataloader))\n",
        "# custom_imshow(image[1], normalize = True, title = 'Image')\n",
        "# img = torchvision.utils.make_grid(image, nrow = 8)\n",
        "# custom_imshow(image[0][0], 'Random Batch of Images')\n",
        "\n",
        "fig=plt.figure(figsize=(10, 5))\n",
        "columns = 4; rows = 2\n",
        "for i in range(1, columns*rows +1):\n",
        "    fig.add_subplot(rows, columns, i)\n",
        "    plt.imshow(custom_imshow(image[0][i-1]))\n",
        "    plt.title(pathology_df[pathology_df['class'] == label[i-1].item()].loc[label[i-1].item()].label)\n",
        "    plt.axis(False)\n",
        "    fig.add_subplot"
      ]
    },
    {
      "cell_type": "code",
      "source": [
        "for i, (inp, label) in enumerate(train_dataloader):\n",
        "  print('Input tensor shape ->', inp.shape)\n",
        "  print('Label tensor shape ->',label.shape)\n",
        "  # print('\\nExample input tensor ->', inp)\n",
        "  # print('Example label tensor ->',label[:5])\n",
        "  break"
      ],
      "metadata": {
        "colab": {
          "base_uri": "https://localhost:8080/",
          "height": 381
        },
        "id": "tzIxJ8RBJ3yu",
        "outputId": "a8fb67a3-30ed-4193-f625-2a069ce38428"
      },
      "execution_count": 13,
      "outputs": [
        {
          "output_type": "error",
          "ename": "KeyboardInterrupt",
          "evalue": "ignored",
          "traceback": [
            "\u001b[0;31m---------------------------------------------------------------------------\u001b[0m",
            "\u001b[0;31mKeyboardInterrupt\u001b[0m                         Traceback (most recent call last)",
            "\u001b[0;32m<ipython-input-13-dd2bb73ea1e3>\u001b[0m in \u001b[0;36m<cell line: 1>\u001b[0;34m()\u001b[0m\n\u001b[0;32m----> 1\u001b[0;31m \u001b[0;32mfor\u001b[0m \u001b[0mi\u001b[0m\u001b[0;34m,\u001b[0m \u001b[0;34m(\u001b[0m\u001b[0minp\u001b[0m\u001b[0;34m,\u001b[0m \u001b[0mlabel\u001b[0m\u001b[0;34m)\u001b[0m \u001b[0;32min\u001b[0m \u001b[0menumerate\u001b[0m\u001b[0;34m(\u001b[0m\u001b[0mtrain_dataloader\u001b[0m\u001b[0;34m)\u001b[0m\u001b[0;34m:\u001b[0m\u001b[0;34m\u001b[0m\u001b[0;34m\u001b[0m\u001b[0m\n\u001b[0m\u001b[1;32m      2\u001b[0m   \u001b[0mprint\u001b[0m\u001b[0;34m(\u001b[0m\u001b[0;34m'Input tensor shape ->'\u001b[0m\u001b[0;34m,\u001b[0m \u001b[0minp\u001b[0m\u001b[0;34m.\u001b[0m\u001b[0mshape\u001b[0m\u001b[0;34m)\u001b[0m\u001b[0;34m\u001b[0m\u001b[0;34m\u001b[0m\u001b[0m\n\u001b[1;32m      3\u001b[0m   \u001b[0mprint\u001b[0m\u001b[0;34m(\u001b[0m\u001b[0;34m'Label tensor shape ->'\u001b[0m\u001b[0;34m,\u001b[0m\u001b[0mlabel\u001b[0m\u001b[0;34m.\u001b[0m\u001b[0mshape\u001b[0m\u001b[0;34m)\u001b[0m\u001b[0;34m\u001b[0m\u001b[0;34m\u001b[0m\u001b[0m\n\u001b[1;32m      4\u001b[0m   \u001b[0;31m# print('\\nExample input tensor ->', inp)\u001b[0m\u001b[0;34m\u001b[0m\u001b[0;34m\u001b[0m\u001b[0m\n\u001b[1;32m      5\u001b[0m   \u001b[0;31m# print('Example label tensor ->',label[:5])\u001b[0m\u001b[0;34m\u001b[0m\u001b[0;34m\u001b[0m\u001b[0m\n",
            "\u001b[0;32m/usr/local/lib/python3.10/dist-packages/torch/utils/data/dataloader.py\u001b[0m in \u001b[0;36m__next__\u001b[0;34m(self)\u001b[0m\n\u001b[1;32m    631\u001b[0m                 \u001b[0;31m# TODO(https://github.com/pytorch/pytorch/issues/76750)\u001b[0m\u001b[0;34m\u001b[0m\u001b[0;34m\u001b[0m\u001b[0m\n\u001b[1;32m    632\u001b[0m                 \u001b[0mself\u001b[0m\u001b[0;34m.\u001b[0m\u001b[0m_reset\u001b[0m\u001b[0;34m(\u001b[0m\u001b[0;34m)\u001b[0m  \u001b[0;31m# type: ignore[call-arg]\u001b[0m\u001b[0;34m\u001b[0m\u001b[0;34m\u001b[0m\u001b[0m\n\u001b[0;32m--> 633\u001b[0;31m             \u001b[0mdata\u001b[0m \u001b[0;34m=\u001b[0m \u001b[0mself\u001b[0m\u001b[0;34m.\u001b[0m\u001b[0m_next_data\u001b[0m\u001b[0;34m(\u001b[0m\u001b[0;34m)\u001b[0m\u001b[0;34m\u001b[0m\u001b[0;34m\u001b[0m\u001b[0m\n\u001b[0m\u001b[1;32m    634\u001b[0m             \u001b[0mself\u001b[0m\u001b[0;34m.\u001b[0m\u001b[0m_num_yielded\u001b[0m \u001b[0;34m+=\u001b[0m \u001b[0;36m1\u001b[0m\u001b[0;34m\u001b[0m\u001b[0;34m\u001b[0m\u001b[0m\n\u001b[1;32m    635\u001b[0m             \u001b[0;32mif\u001b[0m \u001b[0mself\u001b[0m\u001b[0;34m.\u001b[0m\u001b[0m_dataset_kind\u001b[0m \u001b[0;34m==\u001b[0m \u001b[0m_DatasetKind\u001b[0m\u001b[0;34m.\u001b[0m\u001b[0mIterable\u001b[0m \u001b[0;32mand\u001b[0m\u001b[0;31m \u001b[0m\u001b[0;31m\\\u001b[0m\u001b[0;34m\u001b[0m\u001b[0;34m\u001b[0m\u001b[0m\n",
            "\u001b[0;32m/usr/local/lib/python3.10/dist-packages/torch/utils/data/dataloader.py\u001b[0m in \u001b[0;36m_next_data\u001b[0;34m(self)\u001b[0m\n\u001b[1;32m   1326\u001b[0m \u001b[0;34m\u001b[0m\u001b[0m\n\u001b[1;32m   1327\u001b[0m             \u001b[0;32massert\u001b[0m \u001b[0;32mnot\u001b[0m \u001b[0mself\u001b[0m\u001b[0;34m.\u001b[0m\u001b[0m_shutdown\u001b[0m \u001b[0;32mand\u001b[0m \u001b[0mself\u001b[0m\u001b[0;34m.\u001b[0m\u001b[0m_tasks_outstanding\u001b[0m \u001b[0;34m>\u001b[0m \u001b[0;36m0\u001b[0m\u001b[0;34m\u001b[0m\u001b[0;34m\u001b[0m\u001b[0m\n\u001b[0;32m-> 1328\u001b[0;31m             \u001b[0midx\u001b[0m\u001b[0;34m,\u001b[0m \u001b[0mdata\u001b[0m \u001b[0;34m=\u001b[0m \u001b[0mself\u001b[0m\u001b[0;34m.\u001b[0m\u001b[0m_get_data\u001b[0m\u001b[0;34m(\u001b[0m\u001b[0;34m)\u001b[0m\u001b[0;34m\u001b[0m\u001b[0;34m\u001b[0m\u001b[0m\n\u001b[0m\u001b[1;32m   1329\u001b[0m             \u001b[0mself\u001b[0m\u001b[0;34m.\u001b[0m\u001b[0m_tasks_outstanding\u001b[0m \u001b[0;34m-=\u001b[0m \u001b[0;36m1\u001b[0m\u001b[0;34m\u001b[0m\u001b[0;34m\u001b[0m\u001b[0m\n\u001b[1;32m   1330\u001b[0m             \u001b[0;32mif\u001b[0m \u001b[0mself\u001b[0m\u001b[0;34m.\u001b[0m\u001b[0m_dataset_kind\u001b[0m \u001b[0;34m==\u001b[0m \u001b[0m_DatasetKind\u001b[0m\u001b[0;34m.\u001b[0m\u001b[0mIterable\u001b[0m\u001b[0;34m:\u001b[0m\u001b[0;34m\u001b[0m\u001b[0;34m\u001b[0m\u001b[0m\n",
            "\u001b[0;32m/usr/local/lib/python3.10/dist-packages/torch/utils/data/dataloader.py\u001b[0m in \u001b[0;36m_get_data\u001b[0;34m(self)\u001b[0m\n\u001b[1;32m   1282\u001b[0m         \u001b[0;32melif\u001b[0m \u001b[0mself\u001b[0m\u001b[0;34m.\u001b[0m\u001b[0m_pin_memory\u001b[0m\u001b[0;34m:\u001b[0m\u001b[0;34m\u001b[0m\u001b[0;34m\u001b[0m\u001b[0m\n\u001b[1;32m   1283\u001b[0m             \u001b[0;32mwhile\u001b[0m \u001b[0mself\u001b[0m\u001b[0;34m.\u001b[0m\u001b[0m_pin_memory_thread\u001b[0m\u001b[0;34m.\u001b[0m\u001b[0mis_alive\u001b[0m\u001b[0;34m(\u001b[0m\u001b[0;34m)\u001b[0m\u001b[0;34m:\u001b[0m\u001b[0;34m\u001b[0m\u001b[0;34m\u001b[0m\u001b[0m\n\u001b[0;32m-> 1284\u001b[0;31m                 \u001b[0msuccess\u001b[0m\u001b[0;34m,\u001b[0m \u001b[0mdata\u001b[0m \u001b[0;34m=\u001b[0m \u001b[0mself\u001b[0m\u001b[0;34m.\u001b[0m\u001b[0m_try_get_data\u001b[0m\u001b[0;34m(\u001b[0m\u001b[0;34m)\u001b[0m\u001b[0;34m\u001b[0m\u001b[0;34m\u001b[0m\u001b[0m\n\u001b[0m\u001b[1;32m   1285\u001b[0m                 \u001b[0;32mif\u001b[0m \u001b[0msuccess\u001b[0m\u001b[0;34m:\u001b[0m\u001b[0;34m\u001b[0m\u001b[0;34m\u001b[0m\u001b[0m\n\u001b[1;32m   1286\u001b[0m                     \u001b[0;32mreturn\u001b[0m \u001b[0mdata\u001b[0m\u001b[0;34m\u001b[0m\u001b[0;34m\u001b[0m\u001b[0m\n",
            "\u001b[0;32m/usr/local/lib/python3.10/dist-packages/torch/utils/data/dataloader.py\u001b[0m in \u001b[0;36m_try_get_data\u001b[0;34m(self, timeout)\u001b[0m\n\u001b[1;32m   1130\u001b[0m         \u001b[0;31m#   (bool: whether successfully get data, any: data if successful else None)\u001b[0m\u001b[0;34m\u001b[0m\u001b[0;34m\u001b[0m\u001b[0m\n\u001b[1;32m   1131\u001b[0m         \u001b[0;32mtry\u001b[0m\u001b[0;34m:\u001b[0m\u001b[0;34m\u001b[0m\u001b[0;34m\u001b[0m\u001b[0m\n\u001b[0;32m-> 1132\u001b[0;31m             \u001b[0mdata\u001b[0m \u001b[0;34m=\u001b[0m \u001b[0mself\u001b[0m\u001b[0;34m.\u001b[0m\u001b[0m_data_queue\u001b[0m\u001b[0;34m.\u001b[0m\u001b[0mget\u001b[0m\u001b[0;34m(\u001b[0m\u001b[0mtimeout\u001b[0m\u001b[0;34m=\u001b[0m\u001b[0mtimeout\u001b[0m\u001b[0;34m)\u001b[0m\u001b[0;34m\u001b[0m\u001b[0;34m\u001b[0m\u001b[0m\n\u001b[0m\u001b[1;32m   1133\u001b[0m             \u001b[0;32mreturn\u001b[0m \u001b[0;34m(\u001b[0m\u001b[0;32mTrue\u001b[0m\u001b[0;34m,\u001b[0m \u001b[0mdata\u001b[0m\u001b[0;34m)\u001b[0m\u001b[0;34m\u001b[0m\u001b[0;34m\u001b[0m\u001b[0m\n\u001b[1;32m   1134\u001b[0m         \u001b[0;32mexcept\u001b[0m \u001b[0mException\u001b[0m \u001b[0;32mas\u001b[0m \u001b[0me\u001b[0m\u001b[0;34m:\u001b[0m\u001b[0;34m\u001b[0m\u001b[0;34m\u001b[0m\u001b[0m\n",
            "\u001b[0;32m/usr/lib/python3.10/queue.py\u001b[0m in \u001b[0;36mget\u001b[0;34m(self, block, timeout)\u001b[0m\n\u001b[1;32m    178\u001b[0m                     \u001b[0;32mif\u001b[0m \u001b[0mremaining\u001b[0m \u001b[0;34m<=\u001b[0m \u001b[0;36m0.0\u001b[0m\u001b[0;34m:\u001b[0m\u001b[0;34m\u001b[0m\u001b[0;34m\u001b[0m\u001b[0m\n\u001b[1;32m    179\u001b[0m                         \u001b[0;32mraise\u001b[0m \u001b[0mEmpty\u001b[0m\u001b[0;34m\u001b[0m\u001b[0;34m\u001b[0m\u001b[0m\n\u001b[0;32m--> 180\u001b[0;31m                     \u001b[0mself\u001b[0m\u001b[0;34m.\u001b[0m\u001b[0mnot_empty\u001b[0m\u001b[0;34m.\u001b[0m\u001b[0mwait\u001b[0m\u001b[0;34m(\u001b[0m\u001b[0mremaining\u001b[0m\u001b[0;34m)\u001b[0m\u001b[0;34m\u001b[0m\u001b[0;34m\u001b[0m\u001b[0m\n\u001b[0m\u001b[1;32m    181\u001b[0m             \u001b[0mitem\u001b[0m \u001b[0;34m=\u001b[0m \u001b[0mself\u001b[0m\u001b[0;34m.\u001b[0m\u001b[0m_get\u001b[0m\u001b[0;34m(\u001b[0m\u001b[0;34m)\u001b[0m\u001b[0;34m\u001b[0m\u001b[0;34m\u001b[0m\u001b[0m\n\u001b[1;32m    182\u001b[0m             \u001b[0mself\u001b[0m\u001b[0;34m.\u001b[0m\u001b[0mnot_full\u001b[0m\u001b[0;34m.\u001b[0m\u001b[0mnotify\u001b[0m\u001b[0;34m(\u001b[0m\u001b[0;34m)\u001b[0m\u001b[0;34m\u001b[0m\u001b[0;34m\u001b[0m\u001b[0m\n",
            "\u001b[0;32m/usr/lib/python3.10/threading.py\u001b[0m in \u001b[0;36mwait\u001b[0;34m(self, timeout)\u001b[0m\n\u001b[1;32m    322\u001b[0m             \u001b[0;32melse\u001b[0m\u001b[0;34m:\u001b[0m\u001b[0;34m\u001b[0m\u001b[0;34m\u001b[0m\u001b[0m\n\u001b[1;32m    323\u001b[0m                 \u001b[0;32mif\u001b[0m \u001b[0mtimeout\u001b[0m \u001b[0;34m>\u001b[0m \u001b[0;36m0\u001b[0m\u001b[0;34m:\u001b[0m\u001b[0;34m\u001b[0m\u001b[0;34m\u001b[0m\u001b[0m\n\u001b[0;32m--> 324\u001b[0;31m                     \u001b[0mgotit\u001b[0m \u001b[0;34m=\u001b[0m \u001b[0mwaiter\u001b[0m\u001b[0;34m.\u001b[0m\u001b[0macquire\u001b[0m\u001b[0;34m(\u001b[0m\u001b[0;32mTrue\u001b[0m\u001b[0;34m,\u001b[0m \u001b[0mtimeout\u001b[0m\u001b[0;34m)\u001b[0m\u001b[0;34m\u001b[0m\u001b[0;34m\u001b[0m\u001b[0m\n\u001b[0m\u001b[1;32m    325\u001b[0m                 \u001b[0;32melse\u001b[0m\u001b[0;34m:\u001b[0m\u001b[0;34m\u001b[0m\u001b[0;34m\u001b[0m\u001b[0m\n\u001b[1;32m    326\u001b[0m                     \u001b[0mgotit\u001b[0m \u001b[0;34m=\u001b[0m \u001b[0mwaiter\u001b[0m\u001b[0;34m.\u001b[0m\u001b[0macquire\u001b[0m\u001b[0;34m(\u001b[0m\u001b[0;32mFalse\u001b[0m\u001b[0;34m)\u001b[0m\u001b[0;34m\u001b[0m\u001b[0;34m\u001b[0m\u001b[0m\n",
            "\u001b[0;31mKeyboardInterrupt\u001b[0m: "
          ]
        }
      ]
    },
    {
      "cell_type": "markdown",
      "source": [
        "# Methodology"
      ],
      "metadata": {
        "id": "4BlY6p6goxVX"
      }
    },
    {
      "cell_type": "code",
      "source": [
        "# Temporary for testing purposes\n",
        "\n",
        "train_df = train_df[:10000]\n",
        "test_df = test_df[:500]\n",
        "\n",
        "print('Temporary train_df', train_df.shape)\n",
        "print('Temporary test_df', test_df.shape)"
      ],
      "metadata": {
        "id": "VKrtdiT3OS9Y",
        "colab": {
          "base_uri": "https://localhost:8080/"
        },
        "outputId": "8545c96e-68b6-478c-eeae-c8a0e82a9f8e"
      },
      "execution_count": 100,
      "outputs": [
        {
          "output_type": "stream",
          "name": "stdout",
          "text": [
            "Temporary train_df (10000, 16)\n",
            "Temporary test_df (500, 16)\n"
          ]
        }
      ]
    },
    {
      "cell_type": "code",
      "source": [
        "# New train and test split\n",
        "\n",
        "visualise()"
      ],
      "metadata": {
        "colab": {
          "base_uri": "https://localhost:8080/",
          "height": 603
        },
        "id": "fk93YpNUp_O7",
        "outputId": "d430c18c-c6f3-4561-f42b-9ce91b289b86"
      },
      "execution_count": 101,
      "outputs": [
        {
          "output_type": "display_data",
          "data": {
            "text/plain": [
              "<Figure size 700x500 with 2 Axes>"
            ],
            "image/png": "[encoded data removed]"
          },
          "metadata": {}
        }
      ]
    },
    {
      "cell_type": "code",
      "source": [
        "# Saving the train and test dataframe to text file\n",
        "\n",
        "# Save the train dataframe\n",
        "if os.path.exists('./train_file.txt'):\n",
        "  os.remove('./train_file.txt')\n",
        "  train_df.to_csv(r'./train_file.txt', header=None, index=None, sep=' ', mode='a')\n",
        "else:\n",
        "  train_df.to_csv(r'./train_file.txt', header=None, index=None, sep=' ', mode='a')\n",
        "\n",
        "if os.path.exists('./test_file.txt'):\n",
        "  os.remove('./test_file.txt')\n",
        "  test_df.to_csv(r'./test_file.txt', header=None, index=None, sep=' ', mode='a')\n",
        "else:\n",
        "  test_df.to_csv(r'./test_file.txt', header=None, index=None, sep=' ', mode='a')"
      ],
      "metadata": {
        "id": "deCLPGviO1XC"
      },
      "execution_count": 102,
      "outputs": []
    },
    {
      "cell_type": "code",
      "source": [
        "train_dataloader = dataloader('train', 32)\n",
        "test_dataloader = dataloader('test', 32)"
      ],
      "metadata": {
        "id": "nG4mDoYFUv26"
      },
      "execution_count": 103,
      "outputs": []
    },
    {
      "cell_type": "markdown",
      "source": [
        "# Model"
      ],
      "metadata": {
        "id": "o5qONhENSNj5"
      }
    },
    {
      "cell_type": "code",
      "source": [
        "def model_definition(model, gradient_req):\n",
        "  model = torchvision.models.densenet121()\n",
        "\n",
        "  if gradient_req == 'baseline_test' or gradient_req == 'classifier':\n",
        "    for param in model.parameters():\n",
        "      if gradient_req == 'baseline_test' or gradient_req == 'classifier':\n",
        "        param.requires_grad = False\n",
        "      elif gradient_req == 'full_model':\n",
        "        param.requires_grad = True\n",
        "      else:\n",
        "        print('Wrong model training parameters')\n",
        "\n",
        "  num_ftrs = model.classifier.in_features\n",
        "\n",
        "  model.classifier = nn.Sequential(\n",
        "      nn.Linear(num_ftrs, n_classes),\n",
        "      nn.Sigmoid()\n",
        "  )\n",
        "\n",
        "  return model"
      ],
      "metadata": {
        "id": "aNYJlsyBVOmz"
      },
      "execution_count": 104,
      "outputs": []
    },
    {
      "cell_type": "markdown",
      "source": [
        "# Testing"
      ],
      "metadata": {
        "id": "gfw06SKn76Vb"
      }
    },
    {
      "cell_type": "code",
      "source": [
        "# Calculate AUC ROC score\n",
        "\n",
        "def compute_roc_auc(y_true, y_pred):\n",
        "  y_true_np = y_true.cpu().numpy()\n",
        "  y_pred_np = y_pred.cpu().numpy()\n",
        "  AUCROC = []\n",
        "\n",
        "  for i in range(n_classes):\n",
        "      AUCROC.append(roc_auc_score(y_true_np[:, i], y_pred_np[:, i]))\n",
        "  return AUCROC"
      ],
      "metadata": {
        "id": "I15osO-PcaPA"
      },
      "execution_count": 105,
      "outputs": []
    },
    {
      "cell_type": "code",
      "source": [
        "def model_testing(mode, version = None):\n",
        "\n",
        "  # initialize and load the model. Use this for testing without training the model\n",
        "  if mode == 'baseline_test':\n",
        "    model = model_definition(torchvision.models.densenet121(), gradient_req = 'baseline_test')\n",
        "    model = model.cuda()\n",
        "\n",
        "  # Use this for testing after training the model\n",
        "  # model = train_model\n",
        "  if mode == 'train_classifier' or mode == 'train_model':\n",
        "    if mode == 'train_classifier':\n",
        "      version = 'first'\n",
        "    else:\n",
        "      version = 'second'\n",
        "    model = model_definition(torchvision.models.densenet121(), gradient_req = 'baseline_test')\n",
        "    model.load_state_dict(torch.load(f'{version}_train_model.pth'))\n",
        "    model = model.cuda()\n",
        "    model.eval()\n",
        "\n",
        "  y_true = torch.FloatTensor()\n",
        "  y_true = y_true.cuda()\n",
        "  y_pred = torch.FloatTensor()\n",
        "  y_pred = y_pred.cuda()\n",
        "\n",
        "  # with torch.no_grad():\n",
        "  for i, (inp, target) in enumerate(test_dataloader):\n",
        "\n",
        "    # print(i,'\\ninput shape', inp.shape)\n",
        "\n",
        "    target = target.cuda() # Y\n",
        "    # inp = inp.cuda()\n",
        "    y_true = torch.cat((y_true, target), 0)\n",
        "\n",
        "    # print(f\"Memory allocated: {torch.cuda.memory_allocated() // 10**9}\")\n",
        "\n",
        "    bs, n_crops, c, h, w = inp.shape\n",
        "    inp = inp.view(-1, c, h, w).cuda()\n",
        "\n",
        "    output = model(inp)\n",
        "    output = output.view(bs, n_crops, -1)\n",
        "\n",
        "    output_mean = output.mean(1)\n",
        "    y_pred = torch.cat((y_pred, output_mean.data), 0) # Y^\n",
        "\n",
        "    # print('y_true ',y_true.shape)\n",
        "    # print('y_pred ',y_pred.shape)\n",
        "\n",
        "    # print(f\"Memory allocated: {torch.cuda.memory_allocated() // 10**9}\")\n",
        "    torch.cuda.empty_cache()\n",
        "    # print(f\"Memory allocated: {torch.cuda.memory_allocated() // 10**9}\\n\")\n",
        "\n",
        "  return y_true, y_pred\n"
      ],
      "metadata": {
        "id": "JcoaDZuKuns5"
      },
      "execution_count": 106,
      "outputs": []
    },
    {
      "cell_type": "code",
      "source": [
        "auroc_dict = dict()\n",
        "\n",
        "def method_roc_auc_score(mode):\n",
        "  y_true, y_pred = model_testing(mode = mode)\n",
        "\n",
        "  aurocIndividual = compute_roc_auc(y_true, y_pred)\n",
        "  aurocMean = np.array(aurocIndividual).mean()\n",
        "\n",
        "  print ('\\nAUROC mean ', round(aurocMean,3),'\\n')\n",
        "\n",
        "  for i in range (0, len(aurocIndividual)):\n",
        "    print (pathology_list[i], ' - ', round(aurocIndividual[i],3))\n",
        "\n",
        "  auroc_dict[mode] = aurocIndividual\n",
        "\n",
        "  return aurocIndividual, aurocMean"
      ],
      "metadata": {
        "id": "Ek_YO_An10vy"
      },
      "execution_count": 112,
      "outputs": []
    },
    {
      "cell_type": "code",
      "source": [
        "aurocIndividual, aurocMean = method_roc_auc_score(mode = 'baseline_test')"
      ],
      "metadata": {
        "colab": {
          "base_uri": "https://localhost:8080/"
        },
        "id": "PO477pYy2SfT",
        "outputId": "de8cc72c-3ecd-4639-8525-d45e0ecc9ca1"
      },
      "execution_count": 115,
      "outputs": [
        {
          "output_type": "stream",
          "name": "stdout",
          "text": [
            "\n",
            "AUROC mean  0.512 \n",
            "\n",
            "Cardiomegaly  -  0.49\n",
            "Emphysema  -  0.457\n",
            "Effusion  -  0.452\n",
            "Hernia  -  0.855\n",
            "Nodule  -  0.613\n",
            "Pneumothorax  -  0.543\n",
            "Atelectasis  -  0.568\n",
            "Pleural_Thickening  -  0.433\n",
            "Mass  -  0.509\n",
            "Edema  -  0.506\n",
            "Consolidation  -  0.428\n",
            "Infiltration  -  0.514\n",
            "Fibrosis  -  0.31\n",
            "Pneumonia  -  0.466\n",
            "No Findings  -  0.534\n"
          ]
        }
      ]
    },
    {
      "cell_type": "markdown",
      "source": [
        "# Training"
      ],
      "metadata": {
        "id": "lYULLwQJkF_A"
      }
    },
    {
      "cell_type": "code",
      "source": [
        "def tile(a, dim, n_tile):\n",
        "  \"\"\"\n",
        "  input\n",
        "  a - label matrix of size (batch_size x n_classes)\n",
        "  dim - 0\n",
        "  n_tile - number of copies for a single image label\n",
        "\n",
        "  output\n",
        "  return matrix of size (batch_size * n_tile x n_classes)\n",
        "  \"\"\"\n",
        "    init_dim = a.size(dim)\n",
        "    repeat_idx = [1] * a.dim()\n",
        "    repeat_idx[dim] = n_tile\n",
        "    a = a.repeat(*(repeat_idx))\n",
        "    order_index = torch.LongTensor(np.concatenate([init_dim * np.arange(n_tile) + i for i in range(init_dim)]))\n",
        "    return torch.index_select(a, dim, order_index)"
      ],
      "metadata": {
        "id": "K8iPfygANr5o"
      },
      "execution_count": 24,
      "outputs": []
    },
    {
      "cell_type": "code",
      "source": [
        "  # %%time\n",
        "def model_train(model, optimizer, loss_fn, epochs):\n",
        "  \"\"\"\n",
        "  input\n",
        "  model - model definition\n",
        "  optimizer - choice of optimizer\n",
        "  loss_fn - choice of loss function/criterion\n",
        "  epochs - number of time to run the training loop\n",
        "\n",
        "  output - trains the model\n",
        "  \"\"\"\n",
        "\n",
        "    for epoch in range(epochs):  # loop over the dataset multiple times\n",
        "\n",
        "      running_loss = 0.0\n",
        "      print('Epoch',epoch+1,'\\n')\n",
        "\n",
        "      for i, (inp, label) in enumerate(train_dataloader, 0): # get the inputs; data is a list of [images, labels]\n",
        "\n",
        "        #inp.shape -> [16, 10, 3, 224, 224]\n",
        "        #label.shape -> [16, 15]\n",
        "        print('Iteration',i+1)\n",
        "\n",
        "        # zero the parameter gradients\n",
        "        optimizer.zero_grad()\n",
        "\n",
        "        #format input\n",
        "        # bs, n_crops, c, h, w = inp.shape\n",
        "        # inp = inp.view(-1, c, h, w).cuda()\n",
        "        # label = tile(label, 0, 10)\n",
        "        inp = inp.cuda(non_blocking = True)\n",
        "        label = label.cuda(non_blocking = True)\n",
        "\n",
        "        # forward + backward + optimize\n",
        "        # print('Input shape', inp.shape)\n",
        "        # print('Label shape', label.shape)\n",
        "        output = model(inp)\n",
        "\n",
        "        loss = loss_fn(output, label)\n",
        "\n",
        "        loss.backward()\n",
        "        optimizer.step()\n",
        "\n",
        "        # print statistics\n",
        "        running_loss += loss.item()\n",
        "        print('Running loss', running_loss, '\\n')\n",
        "\n",
        "        if i % 100 == 99:    # print every 100 mini-batches\n",
        "          print(f\"[{epoch + 1}, {i + 1:5d}] loss: {running_loss / 100:.3f}\")\n",
        "          running_loss = 0.0\n",
        "\n",
        "      print('\\n')\n",
        "\n",
        "    if scheduler: scheduler.step()\n",
        "\n",
        "    print('Finished Training')"
      ],
      "metadata": {
        "id": "nvtb0_a4BID3"
      },
      "execution_count": null,
      "outputs": []
    },
    {
      "cell_type": "code",
      "source": [
        "# Number of epochs\n",
        "epochs = 5\n",
        "\n",
        "# Loss function and optimizer\n",
        "loss_fn = nn.BCELoss()\n",
        "optimizer = optim.Adam(model.classifier.parameters(), lr = 0.0001, betas=(0.9, 0.999), eps=1e-08, weight_decay=1e-5)"
      ],
      "metadata": {
        "id": "a9GX-C1E7ctT"
      },
      "execution_count": null,
      "outputs": []
    },
    {
      "cell_type": "code",
      "source": [
        "# Training the parameters of the classifier layer of the model\n",
        "\n",
        "model = model_definition(torchvision.models.densenet121(), gradient_req = 'classifier')\n",
        "model = model.cuda()\n",
        "\n",
        "start = time.time()\n",
        "model_train(model = model, optimizer = optimizer, loss_fn = loss_fn, epochs = epochs)\n",
        "end = time.time()\n",
        "\n",
        "torch.save(model.state_dict(), './first_train_model.pth')\n",
        "\n",
        "print('Time taken',(end - start)/60,' minutes')"
      ],
      "metadata": {
        "id": "mA4sHrxvYq2e"
      },
      "execution_count": null,
      "outputs": []
    },
    {
      "cell_type": "code",
      "source": [
        "aurocIndividual, aurocMean = method_roc_auc_score(mode = 'train_classifier')"
      ],
      "metadata": {
        "colab": {
          "base_uri": "https://localhost:8080/"
        },
        "id": "NfgSIVD9GWk5",
        "outputId": "7fa0d5b6-2e4d-441f-aa66-5aed236d63a8"
      },
      "execution_count": 113,
      "outputs": [
        {
          "output_type": "stream",
          "name": "stdout",
          "text": [
            "\n",
            "AUROC mean  0.531 \n",
            "\n",
            "Cardiomegaly  -  0.451\n",
            "Emphysema  -  0.481\n",
            "Effusion  -  0.429\n",
            "Hernia  -  0.265\n",
            "Nodule  -  0.457\n",
            "Pneumothorax  -  0.745\n",
            "Atelectasis  -  0.589\n",
            "Pleural_Thickening  -  0.578\n",
            "Mass  -  0.726\n",
            "Edema  -  0.521\n",
            "Consolidation  -  0.486\n",
            "Infiltration  -  0.548\n",
            "Fibrosis  -  0.776\n",
            "Pneumonia  -  0.44\n",
            "No Findings  -  0.479\n"
          ]
        }
      ]
    },
    {
      "cell_type": "code",
      "source": [
        "# Training the parameters of the whole model\n",
        "\n",
        "model = model_definition(torchvision.models.densenet121(), gradient_req = 'full_model')\n",
        "model = model.cuda()\n",
        "\n",
        "start = time.time()\n",
        "model_train(model, optimizer, loss_fn, epochs)\n",
        "end = time.time()\n",
        "\n",
        "torch.save(model.state_dict(), './second_train_model.pth')\n",
        "\n",
        "print('Time taken',(end - start)/60,' minutes')"
      ],
      "metadata": {
        "colab": {
          "base_uri": "https://localhost:8080/"
        },
        "id": "nRv4C1OmkWTT",
        "outputId": "39ad0d4c-6721-47a5-89fe-bd1985db0e1e"
      },
      "execution_count": null,
      "outputs": [
        {
          "output_type": "stream",
          "name": "stdout",
          "text": [
            "Model state before training OrderedDict([('0.weight', tensor([[ 0.0299,  0.0261, -0.0296,  ...,  0.0056, -0.0255, -0.0154],\n",
            "        [-0.0163,  0.0212,  0.0041,  ...,  0.0254,  0.0243,  0.0193],\n",
            "        [ 0.0012, -0.0132, -0.0138,  ...,  0.0126,  0.0308,  0.0197],\n",
            "        ...,\n",
            "        [-0.0115,  0.0300, -0.0038,  ...,  0.0266,  0.0192, -0.0137],\n",
            "        [-0.0131, -0.0264, -0.0056,  ..., -0.0278, -0.0054,  0.0224],\n",
            "        [ 0.0096, -0.0242,  0.0260,  ..., -0.0087, -0.0187,  0.0014]])), ('0.bias', tensor([-0.0113,  0.0296,  0.0157,  0.0278, -0.0187, -0.0111, -0.0099, -0.0226,\n",
            "         0.0203, -0.0208, -0.0104, -0.0114, -0.0009, -0.0138,  0.0238]))]) \n",
            "\n",
            "[1,   100] loss: 0.343\n",
            "[1,   200] loss: 0.200\n",
            "[1,   300] loss: 0.202\n",
            "[1,   400] loss: 0.176\n",
            "\n",
            "\n",
            "[2,   100] loss: 0.234\n",
            "[2,   200] loss: 0.190\n",
            "[2,   300] loss: 0.200\n",
            "[2,   400] loss: 0.172\n",
            "\n",
            "\n",
            "[3,   100] loss: 0.233\n",
            "[3,   200] loss: 0.188\n",
            "[3,   300] loss: 0.198\n",
            "[3,   400] loss: 0.170\n",
            "\n",
            "\n",
            "[4,   100] loss: 0.230\n",
            "[4,   200] loss: 0.186\n",
            "[4,   300] loss: 0.196\n",
            "[4,   400] loss: 0.168\n",
            "\n",
            "\n",
            "[5,   100] loss: 0.227\n",
            "[5,   200] loss: 0.184\n",
            "[5,   300] loss: 0.194\n",
            "[5,   400] loss: 0.168\n",
            "\n",
            "\n",
            "Finished Training\n",
            "Model state after training OrderedDict([('0.weight', tensor([[ 0.0227,  0.0187, -0.0389,  ..., -0.0042, -0.0369, -0.0239],\n",
            "        [-0.0258,  0.0092, -0.0046,  ...,  0.0155,  0.0123,  0.0104],\n",
            "        [-0.0051, -0.0185, -0.0216,  ...,  0.0059,  0.0248,  0.0127],\n",
            "        ...,\n",
            "        [-0.0203,  0.0214, -0.0145,  ...,  0.0204,  0.0133, -0.0241],\n",
            "        [-0.0266, -0.0366, -0.0183,  ..., -0.0405, -0.0160,  0.0123],\n",
            "        [ 0.0109, -0.0219,  0.0284,  ..., -0.0072, -0.0171,  0.0035]],\n",
            "       device='cuda:0')), ('0.bias', tensor([-0.0210,  0.0190,  0.0085,  0.0133, -0.0273, -0.0202, -0.0169, -0.0309,\n",
            "         0.0121, -0.0315, -0.0186, -0.0147, -0.0093, -0.0254,  0.0262],\n",
            "       device='cuda:0'))]) \n",
            "\n"
          ]
        }
      ]
    },
    {
      "cell_type": "code",
      "source": [
        "aurocIndividual, aurocMean = method_roc_auc_score(mode = 'train_model')"
      ],
      "metadata": {
        "colab": {
          "base_uri": "https://localhost:8080/"
        },
        "id": "GdLgtcTH7UVL",
        "outputId": "81eb0bd3-1ded-47dc-d7eb-e28aada05af4"
      },
      "execution_count": 117,
      "outputs": [
        {
          "output_type": "stream",
          "name": "stdout",
          "text": [
            "\n",
            "AUROC mean  0.556 \n",
            "\n",
            "Cardiomegaly  -  0.562\n",
            "Emphysema  -  0.73\n",
            "Effusion  -  0.571\n",
            "Hernia  -  0.376\n",
            "Nodule  -  0.523\n",
            "Pneumothorax  -  0.668\n",
            "Atelectasis  -  0.533\n",
            "Pleural_Thickening  -  0.533\n",
            "Mass  -  0.312\n",
            "Edema  -  0.606\n",
            "Consolidation  -  0.552\n",
            "Infiltration  -  0.596\n",
            "Fibrosis  -  0.787\n",
            "Pneumonia  -  0.505\n",
            "No Findings  -  0.492\n"
          ]
        }
      ]
    },
    {
      "cell_type": "markdown",
      "source": [
        "# Visualising the ROC AUC scores of the 3 methodologies followed -\n",
        "\n",
        "1. baseline testing of the model\n",
        "2. training the parameters of the classifier layer of the model\n",
        "3. training the parameters of the whole model"
      ],
      "metadata": {
        "id": "n-987J9C71Fo"
      }
    },
    {
      "cell_type": "code",
      "source": [
        "import matplotlib.pyplot as plt\n",
        "\n",
        "fig = plt.figure(figsize = (12,5))\n",
        "for key, val in auroc_dict.items():\n",
        "  plt.plot(pathology_list, val)\n",
        "  plt.xticks(rotation = 90)\n",
        "plt.legend(auroc_dict.keys(), loc = 'upper right')\n",
        "plt.axhline(y = 0.5, color = 'black', linestyle = '--')\n",
        "plt.xlabel('Pathology class')\n",
        "plt.ylabel('AUROC scores')\n",
        "plt.title('AUROC scores across different scenarios')\n",
        "plt.show()"
      ],
      "metadata": {
        "id": "sJ-ssU17kQl5",
        "colab": {
          "base_uri": "https://localhost:8080/",
          "height": 603
        },
        "outputId": "bb425761-9dda-4583-c433-f0bf4ca529d6"
      },
      "execution_count": 119,
      "outputs": [
        {
          "output_type": "display_data",
          "data": {
            "text/plain": [
              "<Figure size 1200x500 with 1 Axes>"
            ],
            "image/png": "[encoded data removed]"
          },
          "metadata": {}
        }
      ]
    }
  ],
  "metadata": {
    "accelerator": "GPU",
    "colab": {
      "provenance": [],
      "collapsed_sections": [
        "Ae0cUyqXSFsf"
      ],
      "gpuType": "T4"
    },
    "kernelspec": {
      "display_name": "Python 3",
      "name": "python3"
    },
    "language_info": {
      "name": "python"
    }
  },
  "nbformat": 4,
  "nbformat_minor": 0
}